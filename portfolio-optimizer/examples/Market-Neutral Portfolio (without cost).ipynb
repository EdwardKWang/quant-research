{
 "cells": [
  {
   "cell_type": "code",
   "execution_count": 1,
   "metadata": {},
   "outputs": [
    {
     "name": "stdout",
     "output_type": "stream",
     "text": [
      "Updating data........................................................."
     ]
    },
    {
     "name": "stderr",
     "output_type": "stream",
     "text": [
      "YahooFinance(\"BBWI\") has dubious total open-to-open returns for timestamps: DatetimeIndex(['1982-11-23 14:30:00+00:00', '1985-06-27 13:30:00+00:00'], dtype='datetime64[ns, UTC]', freq=None)\n"
     ]
    },
    {
     "name": "stdout",
     "output_type": "stream",
     "text": [
      "..."
     ]
    },
    {
     "name": "stderr",
     "output_type": "stream",
     "text": [
      "YahooFinance(\"BEN\") has dubious total open-to-open returns for timestamps: DatetimeIndex(['1984-11-12 14:30:00+00:00', '1984-11-14 14:30:00+00:00',\n",
      "               '1984-11-15 14:30:00+00:00', '1984-11-19 14:30:00+00:00',\n",
      "               '1984-12-28 14:30:00+00:00', '1985-01-02 14:30:00+00:00'],\n",
      "              dtype='datetime64[ns, UTC]', freq=None)\n"
     ]
    },
    {
     "name": "stdout",
     "output_type": "stream",
     "text": [
      "..."
     ]
    },
    {
     "name": "stderr",
     "output_type": "stream",
     "text": [
      "YahooFinance(\"BIIB\") has dubious total open-to-open returns for timestamps: DatetimeIndex(['2005-02-25 14:30:00+00:00'], dtype='datetime64[ns, UTC]', freq=None)\n"
     ]
    },
    {
     "name": "stdout",
     "output_type": "stream",
     "text": [
      "....................................................................."
     ]
    },
    {
     "name": "stderr",
     "output_type": "stream",
     "text": [
      "YahooFinance(\"D\") has dubious total open-to-open returns for timestamps: DatetimeIndex(['1983-05-23 13:30:00+00:00'], dtype='datetime64[ns, UTC]', freq=None)\n"
     ]
    },
    {
     "name": "stdout",
     "output_type": "stream",
     "text": [
      "......................................................................"
     ]
    },
    {
     "name": "stderr",
     "output_type": "stream",
     "text": [
      "YahooFinance(\"FRT\") has dubious total open-to-open returns for timestamps: DatetimeIndex(['1974-05-24 13:30:00+00:00', '1974-05-29 13:30:00+00:00',\n",
      "               '1974-06-04 13:30:00+00:00'],\n",
      "              dtype='datetime64[ns, UTC]', freq=None)\n"
     ]
    },
    {
     "name": "stdout",
     "output_type": "stream",
     "text": [
      "..........."
     ]
    },
    {
     "name": "stderr",
     "output_type": "stream",
     "text": [
      "YahooFinance(\"GL\") has dubious total open-to-open returns for timestamps: DatetimeIndex(['1984-06-08 13:30:00+00:00', '1985-10-10 13:30:00+00:00'], dtype='datetime64[ns, UTC]', freq=None)\n"
     ]
    },
    {
     "name": "stdout",
     "output_type": "stream",
     "text": [
      "..............."
     ]
    },
    {
     "name": "stderr",
     "output_type": "stream",
     "text": [
      "YahooFinance(\"HD\") has dubious total open-to-open returns for timestamps: DatetimeIndex(['1983-03-18 14:30:00+00:00'], dtype='datetime64[ns, UTC]', freq=None)\n"
     ]
    },
    {
     "name": "stdout",
     "output_type": "stream",
     "text": [
      "........................................."
     ]
    },
    {
     "name": "stderr",
     "output_type": "stream",
     "text": [
      "YahooFinance(\"JNPR\") has dubious total open-to-open returns for timestamps: DatetimeIndex(['2024-01-08 14:30:00+00:00'], dtype='datetime64[ns, UTC]', freq=None)\n"
     ]
    },
    {
     "name": "stdout",
     "output_type": "stream",
     "text": [
      "............."
     ]
    },
    {
     "name": "stderr",
     "output_type": "stream",
     "text": [
      "YahooFinance(\"KR\") has dubious total open-to-open returns for timestamps: DatetimeIndex(['2017-06-15 13:30:00+00:00'], dtype='datetime64[ns, UTC]', freq=None)\n"
     ]
    },
    {
     "name": "stdout",
     "output_type": "stream",
     "text": [
      "............"
     ]
    },
    {
     "name": "stderr",
     "output_type": "stream",
     "text": [
      "YahooFinance(\"LOW\") has dubious total open-to-open returns for timestamps: DatetimeIndex(['1983-04-29 13:30:00+00:00'], dtype='datetime64[ns, UTC]', freq=None)\n"
     ]
    },
    {
     "name": "stdout",
     "output_type": "stream",
     "text": [
      "............"
     ]
    },
    {
     "name": "stderr",
     "output_type": "stream",
     "text": [
      "YahooFinance(\"MCD\") has dubious total open-to-open returns for timestamps: DatetimeIndex(['1969-07-09 13:30:00+00:00'], dtype='datetime64[ns, UTC]', freq=None)\n"
     ]
    },
    {
     "name": "stdout",
     "output_type": "stream",
     "text": [
      "..............."
     ]
    },
    {
     "name": "stderr",
     "output_type": "stream",
     "text": [
      "YahooFinance(\"MMC\") has dubious total open-to-open returns for timestamps: DatetimeIndex(['1980-11-21 14:30:00+00:00', '2004-10-14 13:30:00+00:00'], dtype='datetime64[ns, UTC]', freq=None)\n"
     ]
    },
    {
     "name": "stdout",
     "output_type": "stream",
     "text": [
      "..........................................................................."
     ]
    },
    {
     "name": "stderr",
     "output_type": "stream",
     "text": [
      "YahooFinance(\"PSA\") has dubious total open-to-open returns for timestamps: DatetimeIndex(['1981-01-28 14:30:00+00:00', '1981-02-24 14:30:00+00:00'], dtype='datetime64[ns, UTC]', freq=None)\n"
     ]
    },
    {
     "name": "stdout",
     "output_type": "stream",
     "text": [
      ".............................................."
     ]
    },
    {
     "name": "stderr",
     "output_type": "stream",
     "text": [
      "YahooFinance(\"SYY\") has dubious total open-to-open returns for timestamps: DatetimeIndex(['1975-01-10 14:30:00+00:00', '1975-01-29 14:30:00+00:00',\n",
      "               '1977-05-11 13:30:00+00:00', '1977-05-12 13:30:00+00:00'],\n",
      "              dtype='datetime64[ns, UTC]', freq=None)\n"
     ]
    },
    {
     "name": "stdout",
     "output_type": "stream",
     "text": [
      "..................."
     ]
    },
    {
     "name": "stderr",
     "output_type": "stream",
     "text": [
      "YahooFinance(\"TRV\") has dubious total open-to-open returns for timestamps: DatetimeIndex(['1986-06-12 13:30:00+00:00'], dtype='datetime64[ns, UTC]', freq=None)\n"
     ]
    },
    {
     "name": "stdout",
     "output_type": "stream",
     "text": [
      "..."
     ]
    },
    {
     "name": "stderr",
     "output_type": "stream",
     "text": [
      "YahooFinance(\"TSN\") has dubious total open-to-open returns for timestamps: DatetimeIndex(['1983-04-18 14:30:00+00:00', '1985-04-24 14:30:00+00:00'], dtype='datetime64[ns, UTC]', freq=None)\n"
     ]
    },
    {
     "name": "stdout",
     "output_type": "stream",
     "text": [
      ".........."
     ]
    },
    {
     "name": "stderr",
     "output_type": "stream",
     "text": [
      "YahooFinance(\"UHS\") has dubious total open-to-open returns for timestamps: DatetimeIndex(['1986-10-21 13:30:00+00:00'], dtype='datetime64[ns, UTC]', freq=None)\n"
     ]
    },
    {
     "name": "stdout",
     "output_type": "stream",
     "text": [
      "....."
     ]
    },
    {
     "name": "stderr",
     "output_type": "stream",
     "text": [
      "YahooFinance(\"URI\") has dubious total open-to-open returns for timestamps: DatetimeIndex(['2007-11-14 14:30:00+00:00'], dtype='datetime64[ns, UTC]', freq=None)\n"
     ]
    },
    {
     "name": "stdout",
     "output_type": "stream",
     "text": [
      "............"
     ]
    },
    {
     "name": "stderr",
     "output_type": "stream",
     "text": [
      "YahooFinance(\"VTRS\") has dubious total open-to-open returns for timestamps: DatetimeIndex(['1983-07-01 13:30:00+00:00', '1985-02-19 14:30:00+00:00'], dtype='datetime64[ns, UTC]', freq=None)\n"
     ]
    },
    {
     "name": "stdout",
     "output_type": "stream",
     "text": [
      "............................\n"
     ]
    }
   ],
   "source": [
    "import numpy as np\n",
    "\n",
    "import cvxportfolio as cvx\n",
    "\n",
    "from universes import DOW30, NDX100, SP500\n",
    "\n",
    "# these are a little more than 500 names, all large cap US stocks\n",
    "UNIVERSE = sorted(set(DOW30 + NDX100 + SP500))\n",
    "\n",
    "target_volatility = 0.05 / np.sqrt(252) # annual std\n",
    "\n",
    "# you can try different risk models (also combining some)\n",
    "# the full covariance makes this example quite expensive to run\n",
    "risk_model = cvx.FullCovariance()\n",
    "\n",
    "constraints = [\n",
    "    risk_model <= target_volatility**2,\n",
    "    cvx.DollarNeutral(),\n",
    "    cvx.MarketNeutral(),\n",
    "    cvx.LeverageLimit(7),\n",
    "    cvx.MaxWeights(0.05),\n",
    "    cvx.MinWeights(-0.05),\n",
    "]\n",
    "\n",
    "policy = cvx.SinglePeriodOptimization(\n",
    "    cvx.ReturnsForecast(),\n",
    "    constraints = constraints,\n",
    "    # CVXPY's matrix caching can't be used here, its implementation is\n",
    "    # only designed to work with small problem instances\n",
    "    ignore_dpp=True,\n",
    "    solver='ECOS')\n",
    "\n",
    "sim = cvx.MarketSimulator(UNIVERSE)\n",
    "\n",
    "result = sim.backtest(policy, start_time='2000-01-01')\n",
    "\n",
    "print('RESULT:')\n",
    "print(result)\n",
    "\n",
    "figure = result.plot()"
   ]
  }
 ],
 "metadata": {
  "kernelspec": {
   "display_name": "Python 3",
   "language": "python",
   "name": "python3"
  },
  "language_info": {
   "codemirror_mode": {
    "name": "ipython",
    "version": 3
   },
   "file_extension": ".py",
   "mimetype": "text/x-python",
   "name": "python",
   "nbconvert_exporter": "python",
   "pygments_lexer": "ipython3",
   "version": "3.10.13"
  }
 },
 "nbformat": 4,
 "nbformat_minor": 2
}
