{
 "cells": [
  {
   "cell_type": "code",
   "execution_count": null,
   "metadata": {},
   "outputs": [],
   "source": [
    "import numpy as np\n",
    "\n",
    "import cvxportfolio as cvx\n",
    "\n",
    "from .universes import DOW30, NDX100, SP500\n",
    "\n",
    "# these are a little more than 500 names, all large cap US stocks\n",
    "UNIVERSE = sorted(set(DOW30 + NDX100 + SP500))\n",
    "\n",
    "target_volatility = 0.05 / np.sqrt(252) # annual std\n",
    "\n",
    "# you can try different risk models (also combining some)\n",
    "# the full covariance makes this example quite expensive to run\n",
    "risk_model = cvx.FullCovariance()\n",
    "\n",
    "constraints = [\n",
    "    risk_model <= target_volatility**2,\n",
    "    cvx.DollarNeutral(),\n",
    "    cvx.MarketNeutral(),\n",
    "    cvx.LeverageLimit(7),\n",
    "    cvx.MaxWeights(0.05),\n",
    "    cvx.MinWeights(-0.05),\n",
    "]\n",
    "\n",
    "policy = cvx.SinglePeriodOptimization(\n",
    "    cvx.ReturnsForecast(),\n",
    "    constraints = constraints,\n",
    "    # CVXPY's matrix caching can't be used here, its implementation is\n",
    "    # only designed to work with small problem instances\n",
    "    ignore_dpp=True,\n",
    "    solver='ECOS')\n",
    "\n",
    "sim = cvx.MarketSimulator(UNIVERSE)\n",
    "\n",
    "result = sim.backtest(policy, start_time='2000-01-01')\n",
    "\n",
    "print('RESULT:')\n",
    "print(result)\n",
    "\n",
    "figure = result.plot()"
   ]
  }
 ],
 "metadata": {
  "language_info": {
   "name": "python"
  }
 },
 "nbformat": 4,
 "nbformat_minor": 2
}
