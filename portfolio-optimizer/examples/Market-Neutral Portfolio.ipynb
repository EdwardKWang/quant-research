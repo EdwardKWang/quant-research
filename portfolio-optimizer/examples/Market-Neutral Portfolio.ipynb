{
 "cells": [
  {
   "cell_type": "code",
   "execution_count": 2,
   "metadata": {},
   "outputs": [
    {
     "name": "stdout",
     "output_type": "stream",
     "text": [
      "Updating data................"
     ]
    },
    {
     "name": "stderr",
     "output_type": "stream",
     "text": [
      "WARNING:cvxportfolio.data.symbol_data:YahooFinance(\"BIIB\") has dubious total open-to-open returns for timestamps: DatetimeIndex(['2005-02-25 14:30:00+00:00'], dtype='datetime64[ns, UTC]', freq=None)\n"
     ]
    },
    {
     "name": "stdout",
     "output_type": "stream",
     "text": [
      ".....................................................................................\n",
      "iteration 0\n",
      "Current objective:\n",
      "0.5975285592470946\n",
      "iteration 1\n",
      "Current objective:\n",
      "0.6147709904910035\n"
     ]
    }
   ],
   "source": [
    "import numpy as np\n",
    "\n",
    "import cvxportfolio as cvx\n",
    "\n",
    "from universes import NDX100 as UNIVERSE\n",
    "\n",
    "# times\n",
    "START = '2016-01-01'\n",
    "END = None # today\n",
    "\n",
    "# Currently (~2024) shorting large cap US stocks costs about this,\n",
    "# in annualized percentages\n",
    "BORROW_FEES = 0.25\n",
    "\n",
    "# We set the bid-ask spreads at 5 basis points\n",
    "SPREAD = 5E-4\n",
    "\n",
    "# This is the b multiplier of the (3/2) power term in TransactionCost\n",
    "MARKET_IMPACT = 1.\n",
    "\n",
    "policy = cvx.SinglePeriodOptimization(\n",
    "    objective=cvx.ReturnsForecast()\n",
    "        - cvx.Gamma() * cvx.FactorModelCovariance(num_factors=10)\n",
    "        - cvx.Gamma() * cvx.TransactionCost(a=SPREAD/2, b=MARKET_IMPACT)\n",
    "        - cvx.Gamma() * cvx.HoldingCost(short_fees=BORROW_FEES),\n",
    "    constraints = [\n",
    "        cvx.DollarNeutral(), cvx.MarketNeutral(), cvx.LeverageLimit(7)],\n",
    "    # this solver is somewhat more robust than ECOS, but less efficient\n",
    "    solver='CLARABEL',\n",
    "    # this is a CVXPY compilation flag that disables a feature that is very\n",
    "    # useful (cache a semi-compiled problem) but its implementation scales\n",
    "    # badly with the problem size; if you increase number of factors or\n",
    "    # universe size, you may have to uncomment the next line\n",
    "    # ignore_dpp=True,\n",
    ")\n",
    "\n",
    "simulator = cvx.MarketSimulator(\n",
    "    universe=UNIVERSE,\n",
    "    costs = [\n",
    "        cvx.TransactionCost(a=SPREAD/2, b=MARKET_IMPACT),\n",
    "        cvx.HoldingCost(short_fees=BORROW_FEES)])\n",
    "\n",
    "# automatic hyper-parameter optimization (by greedy grid search)\n",
    "simulator.optimize_hyperparameters(\n",
    "    policy, start_time=START, end_time=END,\n",
    "    objective='sharpe_ratio')\n",
    "\n",
    "print('Optimized policy hyper-parameters:')\n",
    "print(policy)\n",
    "\n",
    "# back-test the policy with optimized hyper-parameters\n",
    "result = simulator.backtest(policy, start_time=START, end_time=END)\n",
    "\n",
    "print(\"Optimized policy back-test result:\")\n",
    "print(result)\n",
    "\n",
    "# plot\n",
    "result_figure = result.plot()\n",
    "\n",
    "# check that back-tested returns of the strategy are uncorrelated with the\n",
    "# market benchmark\n",
    "market_benchmark_returns = simulator.backtest(\n",
    "    cvx.MarketBenchmark(), start_time=START, end_time=END).returns\n",
    "\n",
    "print('Correlation of strategy returns with benchmark:')\n",
    "print(np.corrcoef(result.returns, market_benchmark_returns)[0, 1])"
   ]
  }
 ],
 "metadata": {
  "kernelspec": {
   "display_name": "Python 3",
   "language": "python",
   "name": "python3"
  },
  "language_info": {
   "codemirror_mode": {
    "name": "ipython",
    "version": 3
   },
   "file_extension": ".py",
   "mimetype": "text/x-python",
   "name": "python",
   "nbconvert_exporter": "python",
   "pygments_lexer": "ipython3",
   "version": "3.10.13"
  }
 },
 "nbformat": 4,
 "nbformat_minor": 2
}
